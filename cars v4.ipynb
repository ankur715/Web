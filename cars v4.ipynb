{
 "cells": [
  {
   "cell_type": "code",
   "execution_count": 1,
   "metadata": {},
   "outputs": [],
   "source": [
    "import pandas as pd\n",
    "from bokeh.plotting import figure, output_file, show, save, ColumnDataSource\n",
    "from bokeh.models.tools import HoverTool\n",
    "from bokeh.transform import factor_cmap\n",
    "from bokeh.palettes import Blues8\n",
    "from bokeh.embed import components"
   ]
  },
  {
   "cell_type": "code",
   "execution_count": 2,
   "metadata": {},
   "outputs": [],
   "source": [
    "df = pd.read_csv(\"cars.csv\")"
   ]
  },
  {
   "cell_type": "code",
   "execution_count": 3,
   "metadata": {},
   "outputs": [],
   "source": [
    "#create ColumnDataSource from df\n",
    "source = ColumnDataSource(df)"
   ]
  },
  {
   "cell_type": "code",
   "execution_count": 4,
   "metadata": {},
   "outputs": [],
   "source": [
    "output_file('index.html')"
   ]
  },
  {
   "cell_type": "code",
   "execution_count": 5,
   "metadata": {},
   "outputs": [],
   "source": [
    "car_list = source.data[\"Car\"].tolist()"
   ]
  },
  {
   "cell_type": "code",
   "execution_count": 6,
   "metadata": {},
   "outputs": [],
   "source": [
    "p = figure(\n",
    "    y_range=car_list,\n",
    "    plot_width=800,\n",
    "    plot_height=600,\n",
    "    title=\"Cars with Top Horsepower\",\n",
    "    x_axis_label=\"Horsepower\",\n",
    "    tools=\"pan, box_select, zoom_in, zoom_out, save, reset\"\n",
    ")"
   ]
  },
  {
   "cell_type": "code",
   "execution_count": 7,
   "metadata": {},
   "outputs": [
    {
     "data": {
      "text/html": [
       "<div style=\"display: table;\"><div style=\"display: table-row;\"><div style=\"display: table-cell;\"><b title=\"bokeh.models.renderers.GlyphRenderer\">GlyphRenderer</b>(</div><div style=\"display: table-cell;\">id&nbsp;=&nbsp;'1041', <span id=\"1052\" style=\"cursor: pointer;\">&hellip;)</span></div></div><div class=\"1051\" style=\"display: none;\"><div style=\"display: table-cell;\"></div><div style=\"display: table-cell;\">data_source&nbsp;=&nbsp;ColumnDataSource(id='1001', ...),</div></div><div class=\"1051\" style=\"display: none;\"><div style=\"display: table-cell;\"></div><div style=\"display: table-cell;\">glyph&nbsp;=&nbsp;HBar(id='1039', ...),</div></div><div class=\"1051\" style=\"display: none;\"><div style=\"display: table-cell;\"></div><div style=\"display: table-cell;\">hover_glyph&nbsp;=&nbsp;None,</div></div><div class=\"1051\" style=\"display: none;\"><div style=\"display: table-cell;\"></div><div style=\"display: table-cell;\">js_event_callbacks&nbsp;=&nbsp;{},</div></div><div class=\"1051\" style=\"display: none;\"><div style=\"display: table-cell;\"></div><div style=\"display: table-cell;\">js_property_callbacks&nbsp;=&nbsp;{},</div></div><div class=\"1051\" style=\"display: none;\"><div style=\"display: table-cell;\"></div><div style=\"display: table-cell;\">level&nbsp;=&nbsp;'glyph',</div></div><div class=\"1051\" style=\"display: none;\"><div style=\"display: table-cell;\"></div><div style=\"display: table-cell;\">muted&nbsp;=&nbsp;False,</div></div><div class=\"1051\" style=\"display: none;\"><div style=\"display: table-cell;\"></div><div style=\"display: table-cell;\">muted_glyph&nbsp;=&nbsp;None,</div></div><div class=\"1051\" style=\"display: none;\"><div style=\"display: table-cell;\"></div><div style=\"display: table-cell;\">name&nbsp;=&nbsp;None,</div></div><div class=\"1051\" style=\"display: none;\"><div style=\"display: table-cell;\"></div><div style=\"display: table-cell;\">nonselection_glyph&nbsp;=&nbsp;HBar(id='1040', ...),</div></div><div class=\"1051\" style=\"display: none;\"><div style=\"display: table-cell;\"></div><div style=\"display: table-cell;\">selection_glyph&nbsp;=&nbsp;None,</div></div><div class=\"1051\" style=\"display: none;\"><div style=\"display: table-cell;\"></div><div style=\"display: table-cell;\">subscribed_events&nbsp;=&nbsp;[],</div></div><div class=\"1051\" style=\"display: none;\"><div style=\"display: table-cell;\"></div><div style=\"display: table-cell;\">tags&nbsp;=&nbsp;[],</div></div><div class=\"1051\" style=\"display: none;\"><div style=\"display: table-cell;\"></div><div style=\"display: table-cell;\">view&nbsp;=&nbsp;CDSView(id='1042', ...),</div></div><div class=\"1051\" style=\"display: none;\"><div style=\"display: table-cell;\"></div><div style=\"display: table-cell;\">visible&nbsp;=&nbsp;True,</div></div><div class=\"1051\" style=\"display: none;\"><div style=\"display: table-cell;\"></div><div style=\"display: table-cell;\">x_range_name&nbsp;=&nbsp;'default',</div></div><div class=\"1051\" style=\"display: none;\"><div style=\"display: table-cell;\"></div><div style=\"display: table-cell;\">y_range_name&nbsp;=&nbsp;'default')</div></div></div>\n",
       "<script>\n",
       "(function() {\n",
       "  var expanded = false;\n",
       "  var ellipsis = document.getElementById(\"1052\");\n",
       "  ellipsis.addEventListener(\"click\", function() {\n",
       "    var rows = document.getElementsByClassName(\"1051\");\n",
       "    for (var i = 0; i < rows.length; i++) {\n",
       "      var el = rows[i];\n",
       "      el.style.display = expanded ? \"none\" : \"table-row\";\n",
       "    }\n",
       "    ellipsis.innerHTML = expanded ? \"&hellip;)\" : \"&lsaquo;&lsaquo;&lsaquo;\";\n",
       "    expanded = !expanded;\n",
       "  });\n",
       "})();\n",
       "</script>\n"
      ],
      "text/plain": [
       "GlyphRenderer(id='1041', ...)"
      ]
     },
     "execution_count": 7,
     "metadata": {},
     "output_type": "execute_result"
    }
   ],
   "source": [
    "#render glyph\n",
    "p.hbar(\n",
    "    y=\"Car\",\n",
    "    right=\"Horsepower\",\n",
    "    left=0,\n",
    "    height=0,\n",
    "    fill_color=factor_cmap(\n",
    "        \"Car\",\n",
    "        palette=Blues8,\n",
    "        factors=car_list\n",
    "    ),\n",
    "    fill_alpha=0.9,\n",
    "    source=source,\n",
    "    legend=\"Car\"\n",
    ")"
   ]
  },
  {
   "cell_type": "code",
   "execution_count": 8,
   "metadata": {},
   "outputs": [],
   "source": [
    "#add legend\n",
    "p.legend.orientation=\"vertical\"\n",
    "p.legend.location=\"top_right\"\n",
    "p.legend.label_text_font_size=\"10px\""
   ]
  },
  {
   "cell_type": "code",
   "execution_count": 9,
   "metadata": {},
   "outputs": [],
   "source": [
    "#add tooltips\n",
    "hover = HoverTool() \n",
    "#can create dictionary of tuples, or html\n",
    "hover.tooltips = \"\"\"\n",
    "    <div>\n",
    "        <h3>@Car</h3>\n",
    "        <div>strong>Price: </strong>@Price</div>\n",
    "        <div>strong>HP: </strong>@Horsepower</div>\n",
    "        <div><img src=\"@Image\" alt=\"\" width=\"200 /></div>\"\n",
    "    </div>\n",
    "\"\"\""
   ]
  },
  {
   "cell_type": "code",
   "execution_count": 10,
   "metadata": {},
   "outputs": [],
   "source": [
    "p.add_tools(hover)"
   ]
  },
  {
   "cell_type": "code",
   "execution_count": 11,
   "metadata": {},
   "outputs": [
    {
     "name": "stdout",
     "output_type": "stream",
     "text": [
      "\n",
      "<div class=\"bk-root\" id=\"63e05bf9-2a70-4607-82a6-3c84719b5592\" data-root-id=\"1003\"></div>\n",
      "\n",
      "<script type=\"text/javascript\">\n",
      "  (function() {\n",
      "    var fn = function() {\n",
      "      Bokeh.safely(function() {\n",
      "        (function(root) {\n",
      "          function embed_document(root) {\n",
      "            \n",
      "          var docs_json = '{\"1932a308-9da7-4894-8c92-a87f7dd77a88\":{\"roots\":{\"references\":[{\"attributes\":{},\"id\":\"1024\",\"type\":\"ZoomInTool\"},{\"attributes\":{},\"id\":\"1062\",\"type\":\"Selection\"},{\"attributes\":{\"callback\":null,\"overlay\":{\"id\":\"1029\",\"type\":\"BoxAnnotation\"}},\"id\":\"1023\",\"type\":\"BoxSelectTool\"},{\"attributes\":{\"dimension\":1,\"plot\":{\"id\":\"1003\",\"subtype\":\"Figure\",\"type\":\"Plot\"},\"ticker\":{\"id\":\"1019\",\"type\":\"CategoricalTicker\"}},\"id\":\"1021\",\"type\":\"Grid\"},{\"attributes\":{\"bottom_units\":\"screen\",\"fill_alpha\":{\"value\":0.5},\"fill_color\":{\"value\":\"lightgrey\"},\"left_units\":\"screen\",\"level\":\"overlay\",\"line_alpha\":{\"value\":1.0},\"line_color\":{\"value\":\"black\"},\"line_dash\":[4,4],\"line_width\":{\"value\":2},\"plot\":null,\"render_mode\":\"css\",\"right_units\":\"screen\",\"top_units\":\"screen\"},\"id\":\"1029\",\"type\":\"BoxAnnotation\"},{\"attributes\":{\"active_drag\":\"auto\",\"active_inspect\":\"auto\",\"active_multi\":null,\"active_scroll\":\"auto\",\"active_tap\":\"auto\",\"tools\":[{\"id\":\"1022\",\"type\":\"PanTool\"},{\"id\":\"1023\",\"type\":\"BoxSelectTool\"},{\"id\":\"1024\",\"type\":\"ZoomInTool\"},{\"id\":\"1025\",\"type\":\"ZoomOutTool\"},{\"id\":\"1026\",\"type\":\"SaveTool\"},{\"id\":\"1027\",\"type\":\"ResetTool\"},{\"id\":\"1053\",\"type\":\"HoverTool\"}]},\"id\":\"1028\",\"type\":\"Toolbar\"},{\"attributes\":{},\"id\":\"1009\",\"type\":\"LinearScale\"},{\"attributes\":{\"callback\":null,\"tooltips\":\"\\\\n    &lt;div&gt;\\\\n        &lt;h3&gt;@Car&lt;/h3&gt;\\\\n        &lt;div&gt;strong&gt;Price: &lt;/strong&gt;@Price&lt;/div&gt;\\\\n        &lt;div&gt;strong&gt;HP: &lt;/strong&gt;@Horsepower&lt;/div&gt;\\\\n        &lt;div&gt;&lt;img src=\\\\\"@Image\\\\\" alt=\\\\\"\\\\\" width=\\\\\"200 /&gt;&lt;/div&gt;\\\\\"\\\\n    &lt;/div&gt;\\\\n\"},\"id\":\"1053\",\"type\":\"HoverTool\"},{\"attributes\":{},\"id\":\"1022\",\"type\":\"PanTool\"},{\"attributes\":{\"below\":[{\"id\":\"1013\",\"type\":\"LinearAxis\"}],\"left\":[{\"id\":\"1018\",\"type\":\"CategoricalAxis\"}],\"plot_width\":800,\"renderers\":[{\"id\":\"1013\",\"type\":\"LinearAxis\"},{\"id\":\"1017\",\"type\":\"Grid\"},{\"id\":\"1018\",\"type\":\"CategoricalAxis\"},{\"id\":\"1021\",\"type\":\"Grid\"},{\"id\":\"1029\",\"type\":\"BoxAnnotation\"},{\"id\":\"1049\",\"type\":\"Legend\"},{\"id\":\"1041\",\"type\":\"GlyphRenderer\"}],\"title\":{\"id\":\"1002\",\"type\":\"Title\"},\"toolbar\":{\"id\":\"1028\",\"type\":\"Toolbar\"},\"x_range\":{\"id\":\"1005\",\"type\":\"DataRange1d\"},\"x_scale\":{\"id\":\"1009\",\"type\":\"LinearScale\"},\"y_range\":{\"id\":\"1007\",\"type\":\"FactorRange\"},\"y_scale\":{\"id\":\"1011\",\"type\":\"CategoricalScale\"}},\"id\":\"1003\",\"subtype\":\"Figure\",\"type\":\"Plot\"},{\"attributes\":{\"callback\":null,\"data\":{\"Car\":[\"Hennessey Venom F5\",\"Keoonigsegg Regera\",\"Bugatti Chiron\",\"NIO EP9\",\"Rimac Concept One\",\"Aston Martin Valkyrie\",\"McLaren P1 LM\",\"Ferrari LaFerrari\"],\"Horsepower\":[1600,1500,1479,1341,1224,1130,986,950],\"Image\":[\"https://autowise.com/wp-content/uploads/2018/06/Hennessey-Venom-F5-15.jpg\",\"https://autowise.com/wp-content/uploads/2018/06/Regera_front_banner2.jpg\",\"https://autowise.com/wp-content/uploads/2018/06/chiron-768x320.webp\",\"https://autowise.com/wp-content/uploads/2018/06/nio-ep9-1.webp\",\"https://autowise.com/wp-content/uploads/2018/06/rimac.webp\",\"https://autowise.com/wp-content/uploads/2018/06/aston-martin-valkyrie-9-720x720.webp\",\"https://autowise.com/wp-content/uploads/2018/06/lanzante-p1-gtr-mclaren-2017-4.webp\",\"https://autowise.com/wp-content/uploads/2018/06/Ferrari-LaFerrari-three-quarter-1260x570.webp\"],\"Price\":[\"$1.6M\",\"$2M\",\"$3.4M\",\"$1.48M\",\"$1M\",\"$3.2M\",\"$3.7M\",\"$1M\"],\"index\":[0,1,2,3,4,5,6,7]},\"selected\":{\"id\":\"1062\",\"type\":\"Selection\"},\"selection_policy\":{\"id\":\"1061\",\"type\":\"UnionRenderers\"}},\"id\":\"1001\",\"type\":\"ColumnDataSource\"},{\"attributes\":{\"factors\":[\"Hennessey Venom F5\",\"Keoonigsegg Regera\",\"Bugatti Chiron\",\"NIO EP9\",\"Rimac Concept One\",\"Aston Martin Valkyrie\",\"McLaren P1 LM\",\"Ferrari LaFerrari\"],\"palette\":[\"#084594\",\"#2171b5\",\"#4292c6\",\"#6baed6\",\"#9ecae1\",\"#c6dbef\",\"#deebf7\",\"#f7fbff\"]},\"id\":\"1037\",\"type\":\"CategoricalColorMapper\"},{\"attributes\":{\"plot\":null,\"text\":\"Cars with Top Horsepower\"},\"id\":\"1002\",\"type\":\"Title\"},{\"attributes\":{\"callback\":null},\"id\":\"1005\",\"type\":\"DataRange1d\"},{\"attributes\":{\"fill_alpha\":{\"value\":0.1},\"fill_color\":{\"value\":\"#1f77b4\"},\"height\":{\"value\":0},\"line_alpha\":{\"value\":0.1},\"line_color\":{\"value\":\"#1f77b4\"},\"right\":{\"field\":\"Horsepower\"},\"y\":{\"field\":\"Car\"}},\"id\":\"1040\",\"type\":\"HBar\"},{\"attributes\":{\"callback\":null,\"factors\":[\"Hennessey Venom F5\",\"Keoonigsegg Regera\",\"Bugatti Chiron\",\"NIO EP9\",\"Rimac Concept One\",\"Aston Martin Valkyrie\",\"McLaren P1 LM\",\"Ferrari LaFerrari\"]},\"id\":\"1007\",\"type\":\"FactorRange\"},{\"attributes\":{\"data_source\":{\"id\":\"1001\",\"type\":\"ColumnDataSource\"},\"glyph\":{\"id\":\"1039\",\"type\":\"HBar\"},\"hover_glyph\":null,\"muted_glyph\":null,\"nonselection_glyph\":{\"id\":\"1040\",\"type\":\"HBar\"},\"selection_glyph\":null,\"view\":{\"id\":\"1042\",\"type\":\"CDSView\"}},\"id\":\"1041\",\"type\":\"GlyphRenderer\"},{\"attributes\":{},\"id\":\"1011\",\"type\":\"CategoricalScale\"},{\"attributes\":{\"source\":{\"id\":\"1001\",\"type\":\"ColumnDataSource\"}},\"id\":\"1042\",\"type\":\"CDSView\"},{\"attributes\":{\"axis_label\":\"Horsepower\",\"formatter\":{\"id\":\"1045\",\"type\":\"BasicTickFormatter\"},\"plot\":{\"id\":\"1003\",\"subtype\":\"Figure\",\"type\":\"Plot\"},\"ticker\":{\"id\":\"1014\",\"type\":\"BasicTicker\"}},\"id\":\"1013\",\"type\":\"LinearAxis\"},{\"attributes\":{},\"id\":\"1025\",\"type\":\"ZoomOutTool\"},{\"attributes\":{},\"id\":\"1045\",\"type\":\"BasicTickFormatter\"},{\"attributes\":{},\"id\":\"1014\",\"type\":\"BasicTicker\"},{\"attributes\":{},\"id\":\"1047\",\"type\":\"CategoricalTickFormatter\"},{\"attributes\":{\"fill_alpha\":{\"value\":0.9},\"fill_color\":{\"field\":\"Car\",\"transform\":{\"id\":\"1037\",\"type\":\"CategoricalColorMapper\"}},\"height\":{\"value\":0},\"line_color\":{\"value\":\"#1f77b4\"},\"right\":{\"field\":\"Horsepower\"},\"y\":{\"field\":\"Car\"}},\"id\":\"1039\",\"type\":\"HBar\"},{\"attributes\":{\"items\":[{\"id\":\"1050\",\"type\":\"LegendItem\"}],\"label_text_font_size\":{\"value\":\"10px\"},\"plot\":{\"id\":\"1003\",\"subtype\":\"Figure\",\"type\":\"Plot\"}},\"id\":\"1049\",\"type\":\"Legend\"},{\"attributes\":{\"plot\":{\"id\":\"1003\",\"subtype\":\"Figure\",\"type\":\"Plot\"},\"ticker\":{\"id\":\"1014\",\"type\":\"BasicTicker\"}},\"id\":\"1017\",\"type\":\"Grid\"},{\"attributes\":{},\"id\":\"1027\",\"type\":\"ResetTool\"},{\"attributes\":{\"label\":{\"field\":\"Car\"},\"renderers\":[{\"id\":\"1041\",\"type\":\"GlyphRenderer\"}]},\"id\":\"1050\",\"type\":\"LegendItem\"},{\"attributes\":{\"formatter\":{\"id\":\"1047\",\"type\":\"CategoricalTickFormatter\"},\"plot\":{\"id\":\"1003\",\"subtype\":\"Figure\",\"type\":\"Plot\"},\"ticker\":{\"id\":\"1019\",\"type\":\"CategoricalTicker\"}},\"id\":\"1018\",\"type\":\"CategoricalAxis\"},{\"attributes\":{},\"id\":\"1026\",\"type\":\"SaveTool\"},{\"attributes\":{},\"id\":\"1019\",\"type\":\"CategoricalTicker\"},{\"attributes\":{},\"id\":\"1061\",\"type\":\"UnionRenderers\"}],\"root_ids\":[\"1003\"]},\"title\":\"Bokeh Application\",\"version\":\"1.0.4\"}}';\n",
      "          var render_items = [{\"docid\":\"1932a308-9da7-4894-8c92-a87f7dd77a88\",\"roots\":{\"1003\":\"63e05bf9-2a70-4607-82a6-3c84719b5592\"}}];\n",
      "          root.Bokeh.embed.embed_items(docs_json, render_items);\n",
      "        \n",
      "          }\n",
      "          if (root.Bokeh !== undefined) {\n",
      "            embed_document(root);\n",
      "          } else {\n",
      "            var attempts = 0;\n",
      "            var timer = setInterval(function(root) {\n",
      "              if (root.Bokeh !== undefined) {\n",
      "                embed_document(root);\n",
      "                clearInterval(timer);\n",
      "              }\n",
      "              attempts++;\n",
      "              if (attempts > 100) {\n",
      "                console.log(\"Bokeh: ERROR: Unable to run BokehJS code because BokehJS library is missing\");\n",
      "                clearInterval(timer);\n",
      "              }\n",
      "            }, 10, root)\n",
      "          }\n",
      "        })(window);\n",
      "      });\n",
      "    };\n",
      "    if (document.readyState != \"loading\") fn();\n",
      "    else document.addEventListener(\"DOMContentLoaded\", fn);\n",
      "  })();\n",
      "</script>\n"
     ]
    }
   ],
   "source": [
    "script, div = components(p) #can print it to a file, to insert it to HTML file\n",
    "print(div)\n",
    "print(script)"
   ]
  },
  {
   "cell_type": "code",
   "execution_count": 12,
   "metadata": {},
   "outputs": [],
   "source": [
    "show(p)\n",
    "# save(p)"
   ]
  }
 ],
 "metadata": {
  "kernelspec": {
   "display_name": "Python 3",
   "language": "python",
   "name": "python3"
  },
  "language_info": {
   "codemirror_mode": {
    "name": "ipython",
    "version": 3
   },
   "file_extension": ".py",
   "mimetype": "text/x-python",
   "name": "python",
   "nbconvert_exporter": "python",
   "pygments_lexer": "ipython3",
   "version": "3.7.3"
  }
 },
 "nbformat": 4,
 "nbformat_minor": 2
}
